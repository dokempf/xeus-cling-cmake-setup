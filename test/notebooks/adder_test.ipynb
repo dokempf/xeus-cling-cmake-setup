{
 "cells": [
  {
   "cell_type": "code",
   "execution_count": 1,
   "id": "ruled-journalism",
   "metadata": {},
   "outputs": [],
   "source": [
    "#include<adder/adder2.hpp>"
   ]
  },
  {
   "cell_type": "code",
   "execution_count": 2,
   "id": "colonial-publication",
   "metadata": {},
   "outputs": [
    {
     "data": {
      "text/plain": [
       "42"
      ]
     },
     "execution_count": 2,
     "metadata": {},
     "output_type": "execute_result"
    }
   ],
   "source": [
    "adder::add_two(40)"
   ]
  },
  {
   "cell_type": "code",
   "execution_count": null,
   "id": "silent-power",
   "metadata": {},
   "outputs": [],
   "source": []
  }
 ],
 "metadata": {
  "kernelspec": {
   "display_name": "C++17 (adder)",
   "language": "C++17",
   "name": "42ed68d4-2055-59bd-b44b-80b79d31f9cd"
  },
  "language_info": {
   "codemirror_mode": "text/x-c++src",
   "file_extension": ".cpp",
   "mimetype": "text/x-c++src",
   "name": "c++",
   "version": "17"
  }
 },
 "nbformat": 4,
 "nbformat_minor": 5
}
